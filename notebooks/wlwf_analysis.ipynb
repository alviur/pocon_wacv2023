{
 "metadata": {
  "language_info": {
   "codemirror_mode": {
    "name": "ipython",
    "version": 3
   },
   "file_extension": ".py",
   "mimetype": "text/x-python",
   "name": "python",
   "nbconvert_exporter": "python",
   "pygments_lexer": "ipython3",
   "version": "3.7.9-final"
  },
  "orig_nbformat": 2,
  "kernelspec": {
   "name": "python37964bitcvcclassil3d2bd335b9b24a0ab8952012f5b022ef",
   "display_name": "Python 3.7.9 64-bit ('cvc-class-il')"
  }
 },
 "nbformat": 4,
 "nbformat_minor": 2,
 "cells": [
  {
   "source": [
    "\n",
    "Lu's code:\n",
    "\n",
    "```python\n",
    "_,embed_feat_old = model_old(inputs)\n",
    "pro=np.asarray(prototype['class_mean_old'])\n",
    "distance = np.average(np.sum((\n",
    "    np.tile(embed_feat_old[None,:,:],[pro.shape[0],1,1])-np.tile(pro[:,None,:],[1,embed_feat_old.shape[0],1]))**2\n",
    "    ,axis=2),axis=0)\n",
    "W = np.exp(-distance/(2*args.sigma_train**2)) #+1e-5\n",
    "W_norm = W/np.sum(W)\n",
    "loss_aug = args.tradeoff * torch.sum(torch.matmul(torch.from_numpy(W_norm).cuda(),torch.sum((embed_feat-embed_feat_old).pow(2),1)))/2.\n",
    "```"
   ],
   "cell_type": "markdown",
   "metadata": {}
  },
  {
   "cell_type": "code",
   "execution_count": 6,
   "metadata": {},
   "outputs": [],
   "source": [
    "import numpy as np\n",
    "import torch\n",
    "\n",
    "torch.cuda.set_device(1)"
   ]
  },
  {
   "cell_type": "code",
   "execution_count": 17,
   "metadata": {},
   "outputs": [],
   "source": [
    "EMB_DIM = 13\n",
    "BATCH_SIZE = 5\n",
    "PROTO_NUM = 7\n",
    "TRADEOFF = 20\n",
    "SIGMA =  9999.0"
   ]
  },
  {
   "cell_type": "code",
   "execution_count": 18,
   "metadata": {},
   "outputs": [
    {
     "output_type": "execute_result",
     "data": {
      "text/plain": [
       "torch.Size([5, 13])"
      ]
     },
     "metadata": {},
     "execution_count": 18
    }
   ],
   "source": [
    "embed_feat_old = torch.randn(BATCH_SIZE, EMB_DIM).cuda()\n",
    "embed_feat = torch.randn(BATCH_SIZE, EMB_DIM).cuda()\n",
    "pro=torch.randn(PROTO_NUM, EMB_DIM).cuda()\n",
    "embed_feat_old.shape"
   ]
  },
  {
   "source": [
    "## Version 1"
   ],
   "cell_type": "markdown",
   "metadata": {}
  },
  {
   "cell_type": "code",
   "execution_count": 23,
   "metadata": {
    "tags": []
   },
   "outputs": [
    {
     "output_type": "stream",
     "name": "stdout",
     "text": [
      "(5,)\n[0.9999999  0.99999994 0.9999999  0.99999994 0.9999999 ]\n"
     ]
    },
    {
     "output_type": "execute_result",
     "data": {
      "text/plain": [
       "array([0.19999999, 0.2       , 0.19999999, 0.2       , 0.19999999],\n",
       "      dtype=float32)"
      ]
     },
     "metadata": {},
     "execution_count": 23
    }
   ],
   "source": [
    "distance = np.average(np.sum((\n",
    "    np.tile(embed_feat_old.cpu().numpy()[None,:,:],[pro.cpu().numpy().shape[0],1,1])-np.tile(pro.cpu().numpy()[:,None,:],[1,embed_feat_old.cpu().numpy().shape[0],1]))**2\n",
    "    ,axis=2),axis=0)\n",
    "print(distance.shape)\n",
    "W = np.exp(-distance/(2*SIGMA**2)) #+1e-5\n",
    "print(W)\n",
    "W_norm = W/np.sum(W)\n",
    "W_norm"
   ]
  },
  {
   "cell_type": "code",
   "execution_count": null,
   "metadata": {},
   "outputs": [],
   "source": [
    "print(torch.sum(torch.matmul(torch.from_numpy(W_norm).cuda(),torch.sum((embed_feat-embed_feat_old).pow(2),1)))/2.)"
   ]
  },
  {
   "source": [
    "## Version 2"
   ],
   "cell_type": "markdown",
   "metadata": {}
  },
  {
   "cell_type": "code",
   "execution_count": 20,
   "metadata": {
    "tags": []
   },
   "outputs": [
    {
     "output_type": "stream",
     "name": "stdout",
     "text": [
      "tensor([[29.1052, 34.8352, 24.1788, 24.3268, 41.6415, 40.5939, 24.5877],\n        [19.7452, 17.5925, 18.0452, 21.9687, 19.1554, 30.2998, 10.9869],\n        [30.9425, 20.7472, 30.1760, 16.4430, 25.7284, 39.9786, 24.9528],\n        [17.5091, 15.6866, 18.3220, 19.3248, 20.7047, 36.8107,  8.6259],\n        [26.0489, 33.0359, 25.6250, 22.1032, 34.0444, 31.8228, 16.0027]],\n       device='cuda:1')\n"
     ]
    },
    {
     "output_type": "execute_result",
     "data": {
      "text/plain": [
       "tensor([1.0000, 1.0000, 1.0000, 1.0000, 1.0000], device='cuda:1')"
      ]
     },
     "metadata": {},
     "execution_count": 20
    }
   ],
   "source": [
    "n = embed_feat_old.size(0)\n",
    "d = embed_feat_old.size(1)\n",
    "m = pro.size(0)\n",
    "\n",
    "x = embed_feat_old.unsqueeze(1).expand(n, m, d)\n",
    "y = pro.unsqueeze(0).expand(n, m, d)\n",
    "dist = torch.pow(x - y, 2).sum(2)\n",
    "print(dist)\n",
    "\n",
    "W = torch.exp(-dist/(2*SIGMA**2)) #+1e-5\n",
    "W_i = W.mean(1)\n",
    "W_i"
   ]
  },
  {
   "cell_type": "code",
   "execution_count": 21,
   "metadata": {},
   "outputs": [
    {
     "output_type": "execute_result",
     "data": {
      "text/plain": [
       "tensor(103.2415, device='cuda:1')"
      ]
     },
     "metadata": {},
     "execution_count": 21
    }
   ],
   "source": [
    "WLeF_loss = (embed_feat-embed_feat_old).pow(2).sum(1).dot(W_i)\n",
    "WLeF_loss"
   ]
  },
  {
   "cell_type": "code",
   "execution_count": null,
   "metadata": {},
   "outputs": [],
   "source": []
  },
  {
   "cell_type": "code",
   "execution_count": null,
   "metadata": {},
   "outputs": [],
   "source": []
  },
  {
   "cell_type": "code",
   "execution_count": null,
   "metadata": {},
   "outputs": [],
   "source": []
  }
 ]
}